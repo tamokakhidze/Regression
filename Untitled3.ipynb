{
 "cells": [
  {
   "cell_type": "code",
   "execution_count": 2,
   "id": "dceef963-2c44-4906-a4dc-e160271916b9",
   "metadata": {},
   "outputs": [],
   "source": [
    "import numpy as np\n",
    "import matplotlib.pyplot as plt\n",
    "import pandas as pd\n",
    "import seaborn as sns\n",
    "%matplotlib inline\n"
   ]
  },
  {
   "cell_type": "code",
   "execution_count": 3,
   "id": "1f534a28-5b98-49ac-af03-53b970503183",
   "metadata": {},
   "outputs": [
    {
     "data": {
      "text/html": [
       "<div>\n",
       "<style scoped>\n",
       "    .dataframe tbody tr th:only-of-type {\n",
       "        vertical-align: middle;\n",
       "    }\n",
       "\n",
       "    .dataframe tbody tr th {\n",
       "        vertical-align: top;\n",
       "    }\n",
       "\n",
       "    .dataframe thead th {\n",
       "        text-align: right;\n",
       "    }\n",
       "</style>\n",
       "<table border=\"1\" class=\"dataframe\">\n",
       "  <thead>\n",
       "    <tr style=\"text-align: right;\">\n",
       "      <th></th>\n",
       "      <th>Year</th>\n",
       "      <th>Ranking</th>\n",
       "      <th>Artist</th>\n",
       "      <th>Album</th>\n",
       "      <th>Worldwide Sales (Est.)</th>\n",
       "      <th>CDs</th>\n",
       "      <th>Tracks</th>\n",
       "      <th>Album Length</th>\n",
       "      <th>Genre</th>\n",
       "    </tr>\n",
       "  </thead>\n",
       "  <tbody>\n",
       "    <tr>\n",
       "      <th>0</th>\n",
       "      <td>2014</td>\n",
       "      <td>4</td>\n",
       "      <td>Hozier</td>\n",
       "      <td>Hozier</td>\n",
       "      <td>4,413,503</td>\n",
       "      <td>1</td>\n",
       "      <td>13</td>\n",
       "      <td>0:53:26</td>\n",
       "      <td>Blues</td>\n",
       "    </tr>\n",
       "    <tr>\n",
       "      <th>1</th>\n",
       "      <td>1990</td>\n",
       "      <td>10</td>\n",
       "      <td>The Three Tenors</td>\n",
       "      <td>Carreras Domingo Pavarotti In Concert 1990</td>\n",
       "      <td>8,533,000</td>\n",
       "      <td>1</td>\n",
       "      <td>17</td>\n",
       "      <td>1:07:55</td>\n",
       "      <td>Classical</td>\n",
       "    </tr>\n",
       "    <tr>\n",
       "      <th>2</th>\n",
       "      <td>1997</td>\n",
       "      <td>3</td>\n",
       "      <td>Movie Soundtrack</td>\n",
       "      <td>Titanic</td>\n",
       "      <td>30,000,000</td>\n",
       "      <td>1</td>\n",
       "      <td>15</td>\n",
       "      <td>1:12:31</td>\n",
       "      <td>Classical</td>\n",
       "    </tr>\n",
       "    <tr>\n",
       "      <th>3</th>\n",
       "      <td>1997</td>\n",
       "      <td>4</td>\n",
       "      <td>Andrea Bocelli</td>\n",
       "      <td>Romanza</td>\n",
       "      <td>20,000,000</td>\n",
       "      <td>1</td>\n",
       "      <td>15</td>\n",
       "      <td>1:10:13</td>\n",
       "      <td>Classical</td>\n",
       "    </tr>\n",
       "    <tr>\n",
       "      <th>4</th>\n",
       "      <td>2009</td>\n",
       "      <td>9</td>\n",
       "      <td>Andrea Bocelli</td>\n",
       "      <td>My Christmas</td>\n",
       "      <td>4,060,000</td>\n",
       "      <td>1</td>\n",
       "      <td>15</td>\n",
       "      <td>0:59:17</td>\n",
       "      <td>Classical</td>\n",
       "    </tr>\n",
       "    <tr>\n",
       "      <th>...</th>\n",
       "      <td>...</td>\n",
       "      <td>...</td>\n",
       "      <td>...</td>\n",
       "      <td>...</td>\n",
       "      <td>...</td>\n",
       "      <td>...</td>\n",
       "      <td>...</td>\n",
       "      <td>...</td>\n",
       "      <td>...</td>\n",
       "    </tr>\n",
       "    <tr>\n",
       "      <th>315</th>\n",
       "      <td>1994</td>\n",
       "      <td>5</td>\n",
       "      <td>Movie Soundtrack</td>\n",
       "      <td>The Lion King</td>\n",
       "      <td>14,522,893</td>\n",
       "      <td>1</td>\n",
       "      <td>12</td>\n",
       "      <td>0:46:40</td>\n",
       "      <td>World</td>\n",
       "    </tr>\n",
       "    <tr>\n",
       "      <th>316</th>\n",
       "      <td>1996</td>\n",
       "      <td>7</td>\n",
       "      <td>Movie Soundtrack</td>\n",
       "      <td>Raja Hindustani</td>\n",
       "      <td>11,000,000</td>\n",
       "      <td>1</td>\n",
       "      <td>8</td>\n",
       "      <td>0:51:22</td>\n",
       "      <td>World</td>\n",
       "    </tr>\n",
       "    <tr>\n",
       "      <th>317</th>\n",
       "      <td>1997</td>\n",
       "      <td>8</td>\n",
       "      <td>Movie Soundtrack</td>\n",
       "      <td>Dil To Pagal Hai</td>\n",
       "      <td>12,500,000</td>\n",
       "      <td>1</td>\n",
       "      <td>11</td>\n",
       "      <td>0:54:34</td>\n",
       "      <td>World</td>\n",
       "    </tr>\n",
       "    <tr>\n",
       "      <th>318</th>\n",
       "      <td>1997</td>\n",
       "      <td>9</td>\n",
       "      <td>Buena Vista Social Club</td>\n",
       "      <td>Buena Vista Social Club</td>\n",
       "      <td>12,000,000</td>\n",
       "      <td>1</td>\n",
       "      <td>14</td>\n",
       "      <td>1:00:00</td>\n",
       "      <td>World</td>\n",
       "    </tr>\n",
       "    <tr>\n",
       "      <th>319</th>\n",
       "      <td>2000</td>\n",
       "      <td>8</td>\n",
       "      <td>Enya</td>\n",
       "      <td>A Day Without Rain</td>\n",
       "      <td>12,097,445</td>\n",
       "      <td>1</td>\n",
       "      <td>12</td>\n",
       "      <td>0:37:30</td>\n",
       "      <td>World</td>\n",
       "    </tr>\n",
       "  </tbody>\n",
       "</table>\n",
       "<p>320 rows × 9 columns</p>\n",
       "</div>"
      ],
      "text/plain": [
       "     Year  Ranking                   Artist  \\\n",
       "0    2014        4                   Hozier   \n",
       "1    1990       10         The Three Tenors   \n",
       "2    1997        3         Movie Soundtrack   \n",
       "3    1997        4           Andrea Bocelli   \n",
       "4    2009        9           Andrea Bocelli   \n",
       "..    ...      ...                      ...   \n",
       "315  1994        5         Movie Soundtrack   \n",
       "316  1996        7         Movie Soundtrack   \n",
       "317  1997        8         Movie Soundtrack   \n",
       "318  1997        9  Buena Vista Social Club   \n",
       "319  2000        8                     Enya   \n",
       "\n",
       "                                          Album Worldwide Sales (Est.)  CDs  \\\n",
       "0                                        Hozier              4,413,503    1   \n",
       "1    Carreras Domingo Pavarotti In Concert 1990              8,533,000    1   \n",
       "2                                       Titanic             30,000,000    1   \n",
       "3                                       Romanza             20,000,000    1   \n",
       "4                                  My Christmas              4,060,000    1   \n",
       "..                                          ...                    ...  ...   \n",
       "315                               The Lion King             14,522,893    1   \n",
       "316                             Raja Hindustani             11,000,000    1   \n",
       "317                            Dil To Pagal Hai             12,500,000    1   \n",
       "318                     Buena Vista Social Club             12,000,000    1   \n",
       "319                          A Day Without Rain             12,097,445    1   \n",
       "\n",
       "     Tracks Album Length      Genre  \n",
       "0        13      0:53:26      Blues  \n",
       "1        17      1:07:55  Classical  \n",
       "2        15      1:12:31  Classical  \n",
       "3        15      1:10:13  Classical  \n",
       "4        15      0:59:17  Classical  \n",
       "..      ...          ...        ...  \n",
       "315      12      0:46:40      World  \n",
       "316       8      0:51:22      World  \n",
       "317      11      0:54:34      World  \n",
       "318      14      1:00:00      World  \n",
       "319      12      0:37:30      World  \n",
       "\n",
       "[320 rows x 9 columns]"
      ]
     },
     "execution_count": 3,
     "metadata": {},
     "output_type": "execute_result"
    }
   ],
   "source": [
    "df = pd.read_csv(\"albums.csv\")\n",
    "df"
   ]
  },
  {
   "cell_type": "code",
   "execution_count": 4,
   "id": "5bee9a45-d46b-4fbf-bdb6-044253ffc931",
   "metadata": {},
   "outputs": [
    {
     "data": {
      "text/plain": [
       "array(['4,413,503', '8,533,000', '30,000,000', '20,000,000', '4,060,000',\n",
       "       '18,770,000', '14,570,000', '10,535,000', '10,439,676',\n",
       "       '10,847,500', '20,000,000', '40,000,000', '13,715,000',\n",
       "       '10,920,000', '9,530,000', '9,335,000', '7,270,000', '5,539,000',\n",
       "       '11,901,000', '6,917,500', '4,913,500', '4,115,000', '4,160,000',\n",
       "       '4,147,000', '3,371,000', '3,357,000', '3,461,000', '5,000,000',\n",
       "       '18,000,000', '13,860,000', '32,000,000', '10,715,000',\n",
       "       '20,891,750', '11,000,000', '12,000,000', '7,755,057', '7,012,000',\n",
       "       '8,918,504', '12,433,091', '8,033,713', '7,864,434', '6,428,000',\n",
       "       '6,060,563', '7,365,000', '7,740,795', '3,588,000', '6,920,000',\n",
       "       '5,530,000', '5,110,000', '5,790,318', '4,595,000', '3,230,000',\n",
       "       '6,500,000', '4,835,000', '7,657,000', '6,111,355', '4,070,414',\n",
       "       '6,636,118', '6,133,983', '4,907,811', '3,932,852', '3,522,713',\n",
       "       '3,376,138', '6,243,665', '4,777,389', '3,920,000', '3,045,000',\n",
       "       '2,741,096', '3,402,981', '2,264,500', '13,204,140', '30,000,000',\n",
       "       '20,000,000', '15,000,000', '10,000,000', '8,838,000',\n",
       "       '27,000,000', '45,000,000', '32,000,000', '7,000,000',\n",
       "       '30,000,000', '25,000,000', '12,571,000', '15,000,000',\n",
       "       '25,000,000', '20,000,000', '13,490,000', '32,000,000',\n",
       "       '23,000,000', '14,000,000', '7,051,970', '30,000,000',\n",
       "       '14,000,000', '14,000,000', '13,000,000', '20,000,000',\n",
       "       '14,000,000', '10,738,067', '40,000,000', '27,000,000',\n",
       "       '18,513,351', '17,000,000', '14,000,000', '12,000,000',\n",
       "       '24,000,000', '20,000,000', '14,215,547', '13,000,000',\n",
       "       '10,000,000', '7,185,329', '27,000,000', '10,000,000', '8,538,166',\n",
       "       '9,592,405', '7,942,249', '7,684,083', '11,124,158', '10,000,000',\n",
       "       '10,000,000', '10,000,000', '7,000,000', '10,000,000', '8,255,866',\n",
       "       '7,749,000', '10,834,803', '7,210,000', '7,000,000', '7,000,000',\n",
       "       '5,135,000', '14,340,358', '7,700,000', '7,000,000', '6,720,293',\n",
       "       '6,603,000', '8,601,000', '8,298,000', '6,980,000', '5,000,000',\n",
       "       '3,980,000', '11,094,000', '11,055,000', '6,668,000', '5,235,395',\n",
       "       '3,705,000', '30,000,000', '15,000,000', '7,428,000', '7,126,944',\n",
       "       '5,836,188', '4,608,000', '8,946,749', '8,819,124', '6,434,983',\n",
       "       '5,914,619', '4,377,500', '4,141,507', '10,000,000', '5,750,087',\n",
       "       '4,845,500', '4,500,223', '4,096,198', '3,702,500', '14,332,116',\n",
       "       '11,879,785', '9,216,352', '4,230,464', '3,346,212', '3,200,000',\n",
       "       '23,000,000', '14,000,000', '3,885,000', '3,376,423', '2,655,000',\n",
       "       '4,207,235', '4,170,954', '3,661,560', '3,462,374', '3,418,440',\n",
       "       '3,189,149', '2,727,078', '13,430,805', '6,295,619', '5,746,523',\n",
       "       '3,091,731', '4,866,789', '4,050,810', '3,363,039', '6,031,516',\n",
       "       '5,670,554', '4,787,733', '3,665,436', '3,646,799', '3,300,000',\n",
       "       '3,080,507', '2,551,838', '6,829,450', '5,397,015', '4,115,487',\n",
       "       '3,332,300', '2,947,398', '4,485,025', '3,830,500', '3,633,287',\n",
       "       '3,498,564', '3,051,131', '2,401,368', '1,909,009', '20,000,000',\n",
       "       '10,000,000', '14,355,000', '13,999,880', '12,000,000',\n",
       "       '15,000,000', '20,000,000', '15,000,000', '12,000,000',\n",
       "       '7,235,958', '7,500,000', '20,000,000', '16,000,000', '7,290,000',\n",
       "       '6,000,000', '4,600,000', '5,299,588', '4,421,666', '3,681,211',\n",
       "       '3,190,000', '4,402,942', '9,956,520', '33,000,000', '30,000,000',\n",
       "       '19,000,000', '18,000,000', '15,710,000', '15,000,000',\n",
       "       '15,000,000', '15,000,000', '26,000,000', '18,000,000',\n",
       "       '8,337,500', '6,337,818', '20,000,000', '15,000,000', '12,972,000',\n",
       "       '10,105,328', '22,265,000', '20,000,000', '18,500,000',\n",
       "       '14,190,000', '12,529,430', '12,000,000', '33,000,000',\n",
       "       '22,000,000', '20,000,000', '13,585,000', '10,593,328',\n",
       "       '15,000,000', '8,061,530', '7,100,000', '12,000,000', '12,418,000',\n",
       "       '11,467,500', '11,000,000', '25,000,000', '16,000,000',\n",
       "       '16,000,000', '13,195,000', '32,000,000', '27,000,000',\n",
       "       '13,000,000', '12,000,000', '15,000,000', '9,301,500', '8,000,000',\n",
       "       '7,428,000', '7,000,000', '18,000,000', '11,639,492', '11,483,262',\n",
       "       '10,111,942', '17,000,000', '11,287,487', '8,000,000',\n",
       "       '12,459,000', '11,646,853', '10,000,000', '9,903,965', '8,000,000',\n",
       "       '7,364,944', '19,000,000', '10,000,000', '8,000,000', '8,000,000',\n",
       "       '6,342,000', '5,180,790', '6,815,000', '5,500,000', '11,209,713',\n",
       "       '8,000,000', '7,213,344', '7,000,000', '8,000,000', '5,000,000',\n",
       "       '4,384,500', '4,590,102', '9,146,263', '6,231,084', '4,391,000',\n",
       "       '3,700,000', '3,186,458', '6,000,000', '4,790,478', '3,220,000',\n",
       "       '2,585,920', '15,000,000', '14,522,893', '11,000,000',\n",
       "       '12,500,000', '12,000,000', '12,097,445'], dtype=object)"
      ]
     },
     "execution_count": 4,
     "metadata": {},
     "output_type": "execute_result"
    }
   ],
   "source": [
    "X = df[\"Worldwide Sales (Est.)\"].values\n",
    "X"
   ]
  },
  {
   "cell_type": "code",
   "execution_count": 16,
   "id": "31ac9478-4b40-4851-b945-1c01440914b0",
   "metadata": {},
   "outputs": [
    {
     "data": {
      "text/html": [
       "<div>\n",
       "<style scoped>\n",
       "    .dataframe tbody tr th:only-of-type {\n",
       "        vertical-align: middle;\n",
       "    }\n",
       "\n",
       "    .dataframe tbody tr th {\n",
       "        vertical-align: top;\n",
       "    }\n",
       "\n",
       "    .dataframe thead th {\n",
       "        text-align: right;\n",
       "    }\n",
       "</style>\n",
       "<table border=\"1\" class=\"dataframe\">\n",
       "  <thead>\n",
       "    <tr style=\"text-align: right;\">\n",
       "      <th></th>\n",
       "      <th>Tracks</th>\n",
       "      <th>Worldwide Sales (Est.)</th>\n",
       "    </tr>\n",
       "  </thead>\n",
       "  <tbody>\n",
       "    <tr>\n",
       "      <th>0</th>\n",
       "      <td>13.0</td>\n",
       "      <td>4413503.0</td>\n",
       "    </tr>\n",
       "    <tr>\n",
       "      <th>1</th>\n",
       "      <td>17.0</td>\n",
       "      <td>8533000.0</td>\n",
       "    </tr>\n",
       "    <tr>\n",
       "      <th>2</th>\n",
       "      <td>15.0</td>\n",
       "      <td>30000000.0</td>\n",
       "    </tr>\n",
       "    <tr>\n",
       "      <th>3</th>\n",
       "      <td>15.0</td>\n",
       "      <td>20000000.0</td>\n",
       "    </tr>\n",
       "    <tr>\n",
       "      <th>4</th>\n",
       "      <td>15.0</td>\n",
       "      <td>4060000.0</td>\n",
       "    </tr>\n",
       "    <tr>\n",
       "      <th>...</th>\n",
       "      <td>...</td>\n",
       "      <td>...</td>\n",
       "    </tr>\n",
       "    <tr>\n",
       "      <th>315</th>\n",
       "      <td>12.0</td>\n",
       "      <td>14522893.0</td>\n",
       "    </tr>\n",
       "    <tr>\n",
       "      <th>316</th>\n",
       "      <td>8.0</td>\n",
       "      <td>11000000.0</td>\n",
       "    </tr>\n",
       "    <tr>\n",
       "      <th>317</th>\n",
       "      <td>11.0</td>\n",
       "      <td>12500000.0</td>\n",
       "    </tr>\n",
       "    <tr>\n",
       "      <th>318</th>\n",
       "      <td>14.0</td>\n",
       "      <td>12000000.0</td>\n",
       "    </tr>\n",
       "    <tr>\n",
       "      <th>319</th>\n",
       "      <td>12.0</td>\n",
       "      <td>12097445.0</td>\n",
       "    </tr>\n",
       "  </tbody>\n",
       "</table>\n",
       "<p>320 rows × 2 columns</p>\n",
       "</div>"
      ],
      "text/plain": [
       "     Tracks  Worldwide Sales (Est.)\n",
       "0      13.0               4413503.0\n",
       "1      17.0               8533000.0\n",
       "2      15.0              30000000.0\n",
       "3      15.0              20000000.0\n",
       "4      15.0               4060000.0\n",
       "..      ...                     ...\n",
       "315    12.0              14522893.0\n",
       "316     8.0              11000000.0\n",
       "317    11.0              12500000.0\n",
       "318    14.0              12000000.0\n",
       "319    12.0              12097445.0\n",
       "\n",
       "[320 rows x 2 columns]"
      ]
     },
     "execution_count": 16,
     "metadata": {},
     "output_type": "execute_result"
    }
   ],
   "source": [
    "y = df['Tracks'].astype(str)\n",
    "new_df = df[[\"Tracks\", \"Worldwide Sales (Est.)\"]].copy()\n",
    "\n",
    "new_df['Tracks'] = new_df['Tracks'].apply(str).str.replace(',', '').astype(float)\n",
    "new_df['Worldwide Sales (Est.)'] = new_df['Worldwide Sales (Est.)'].str.replace(',', '').astype(float)\n",
    "\n",
    "new_df"
   ]
  },
  {
   "cell_type": "code",
   "execution_count": 17,
   "id": "d345b7d0-a0f3-4471-a6bb-c6ea3f1ae469",
   "metadata": {},
   "outputs": [
    {
     "data": {
      "text/plain": [
       "<Axes: >"
      ]
     },
     "execution_count": 17,
     "metadata": {},
     "output_type": "execute_result"
    },
    {
     "data": {
      "image/png": "[encoded data removed]",
      "text/plain": [
       "<Figure size 640x480 with 2 Axes>"
      ]
     },
     "metadata": {},
     "output_type": "display_data"
    }
   ],
   "source": [
    "sns.heatmap(new_df.corr())"
   ]
  },
  {
   "cell_type": "code",
   "execution_count": 18,
   "id": "95ef2c40-bd3f-4c69-ae75-eb8088ea7f84",
   "metadata": {},
   "outputs": [
    {
     "ename": "ModuleNotFoundError",
     "evalue": "No module named 'sklearn'",
     "output_type": "error",
     "traceback": [
      "\u001b[1;31m---------------------------------------------------------------------------\u001b[0m",
      "\u001b[1;31mModuleNotFoundError\u001b[0m                       Traceback (most recent call last)",
      "Cell \u001b[1;32mIn[18], line 1\u001b[0m\n\u001b[1;32m----> 1\u001b[0m \u001b[38;5;28;01mfrom\u001b[39;00m \u001b[38;5;21;01msklearn\u001b[39;00m\u001b[38;5;21;01m.\u001b[39;00m\u001b[38;5;21;01mmodel_selection\u001b[39;00m \u001b[38;5;28;01mimport\u001b[39;00m train_test_split\n\u001b[0;32m      2\u001b[0m X_train, X_test, y_train, y_test \u001b[38;5;241m=\u001b[39m train_test_split(X, y, test_size \u001b[38;5;241m=\u001b[39m \u001b[38;5;241m0.2\u001b[39m, random_state \u001b[38;5;241m=\u001b[39m \u001b[38;5;241m0\u001b[39m)\n",
      "\u001b[1;31mModuleNotFoundError\u001b[0m: No module named 'sklearn'"
     ]
    }
   ],
   "source": [
    "from sklearn.model_selection import train_test_split\n",
    "X_train, X_test, y_train, y_test = train_test_split(X, y, test_size = 0.2, random_state = 0)"
   ]
  },
  {
   "cell_type": "code",
   "execution_count": null,
   "id": "7bf0626c-fb65-4af4-acc4-4829c4208756",
   "metadata": {},
   "outputs": [],
   "source": [
    "#from sklearn.linear_model import LinearRegression\n",
    "#regressor = LinearRegression()\n",
    "#regressor.fit(X_train, y_train)\n",
    "\n"
   ]
  },
  {
   "cell_type": "code",
   "execution_count": 4,
   "id": "ca2c4e36-b6a0-427d-a44c-37387eabde2f",
   "metadata": {},
   "outputs": [
    {
     "data": {
      "text/plain": [
       "array([2014, 1990, 1997, 1997, 2009, 1990, 1991, 1992, 1992, 1993, 1995,\n",
       "       1997, 1998, 1998, 2002, 2005, 2006, 2007, 2008, 2010, 2010, 2010,\n",
       "       2013, 2015, 2017, 2019, 2021, 2013, 1990, 1996, 2000, 2000, 2002,\n",
       "       2002, 2003, 2003, 2003, 2004, 2005, 2005, 2005, 2006, 2007, 2009,\n",
       "       2010, 2010, 2011, 2011, 2011, 2013, 2013, 2014, 2015, 2015, 2016,\n",
       "       2016, 2017, 2018, 2018, 2018, 2018, 2018, 2018, 2019, 2020, 2020,\n",
       "       2020, 2020, 2021, 2021, 1992, 1990, 1990, 1990, 1990, 1990, 1991,\n",
       "       1992, 1992, 1992, 1993, 1993, 1993, 1994, 1995, 1995, 1995, 1996,\n",
       "       1996, 1996, 1996, 1997, 1997, 1997, 1997, 1998, 1998, 1998, 1999,\n",
       "       1999, 1999, 1999, 1999, 1999, 2000, 2000, 2000, 2001, 2001, 2001,\n",
       "       2002, 2002, 2002, 2003, 2003, 2003, 2004, 2004, 2005, 2005, 2005,\n",
       "       2006, 2006, 2006, 2007, 2007, 2007, 2007, 2007, 2008, 2008, 2008,\n",
       "       2008, 2008, 2009, 2009, 2009, 2009, 2009, 2010, 2010, 2010, 2010,\n",
       "       2010, 2011, 2011, 2011, 2011, 2011, 2011, 2012, 2012, 2012, 2012,\n",
       "       2012, 2012, 2013, 2013, 2013, 2013, 2013, 2013, 2014, 2014, 2014,\n",
       "       2014, 2014, 2014, 2015, 2015, 2015, 2015, 2015, 2016, 2016, 2016,\n",
       "       2016, 2016, 2016, 2016, 2017, 2017, 2017, 2017, 2018, 2018, 2018,\n",
       "       2019, 2019, 2019, 2019, 2019, 2019, 2019, 2019, 2020, 2020, 2020,\n",
       "       2020, 2020, 2021, 2021, 2021, 2021, 2021, 2021, 2021, 1993, 1993,\n",
       "       1994, 1994, 1995, 1996, 1998, 1998, 2001, 2001, 2003, 2004, 2006,\n",
       "       2006, 2007, 2012, 2015, 2016, 2017, 2017, 2020, 1990, 1991, 1991,\n",
       "       1991, 1991, 1991, 1991, 1991, 1991, 1992, 1992, 1992, 1992, 1993,\n",
       "       1993, 1993, 1993, 1994, 1994, 1994, 1994, 1994, 1994, 1995, 1995,\n",
       "       1995, 1995, 1995, 1996, 1996, 1996, 1997, 1998, 1998, 1998, 1999,\n",
       "       1999, 1999, 1999, 2000, 2000, 2000, 2000, 2001, 2001, 2001, 2001,\n",
       "       2001, 2002, 2002, 2002, 2002, 2003, 2003, 2003, 2004, 2004, 2004,\n",
       "       2004, 2004, 2004, 2005, 2005, 2005, 2006, 2006, 2006, 2007, 2007,\n",
       "       2008, 2008, 2008, 2008, 2009, 2009, 2009, 2011, 2012, 2012, 2012,\n",
       "       2014, 2014, 2015, 2017, 2017, 2018, 1990, 1994, 1996, 1997, 1997,\n",
       "       2000], dtype=int64)"
      ]
     },
     "execution_count": 4,
     "metadata": {},
     "output_type": "execute_result"
    }
   ],
   "source": [
    "X = df[\"Year\"].values\n",
    "X"
   ]
  },
  {
   "cell_type": "code",
   "execution_count": 5,
   "id": "b97ae395-a123-45b1-b30d-c0b3a0fad7e3",
   "metadata": {},
   "outputs": [],
   "source": [
    "y = df[\"CDs\"].values\n"
   ]
  },
  {
   "cell_type": "code",
   "execution_count": 6,
   "id": "09883d42-029e-44cb-b62d-208c433dcc56",
   "metadata": {},
   "outputs": [
    {
     "data": {
      "text/plain": [
       "array([1, 1, 1, 1, 1, 1, 1, 1, 1, 1, 1, 1, 1, 2, 1, 1, 1, 2, 1, 1, 1, 1,\n",
       "       1, 1, 1, 1, 2, 1, 1, 1, 1, 1, 1, 1, 1, 1, 2, 1, 1, 1, 1, 1, 1, 1,\n",
       "       1, 1, 1, 1, 1, 1, 1, 1, 1, 2, 1, 1, 1, 1, 2, 1, 1, 1, 1, 1, 1, 1,\n",
       "       1, 1, 1, 1, 1, 1, 1, 1, 1, 1, 1, 1, 1, 1, 1, 1, 1, 1, 1, 2, 1, 1,\n",
       "       1, 1, 1, 1, 1, 1, 1, 1, 1, 1, 1, 1, 1, 1, 1, 1, 1, 1, 1, 1, 1, 1,\n",
       "       1, 1, 1, 1, 1, 1, 1, 1, 1, 1, 1, 1, 1, 1, 1, 1, 1, 1, 1, 1, 1, 1,\n",
       "       1, 1, 1, 1, 1, 1, 1, 1, 1, 1, 1, 1, 1, 1, 1, 1, 1, 1, 1, 1, 1, 1,\n",
       "       1, 1, 1, 1, 1, 1, 1, 1, 1, 1, 1, 1, 1, 1, 1, 1, 1, 1, 1, 1, 1, 1,\n",
       "       1, 1, 1, 1, 1, 1, 1, 1, 2, 1, 1, 1, 1, 1, 1, 1, 4, 1, 1, 1, 1, 1,\n",
       "       1, 1, 1, 1, 1, 1, 1, 1, 1, 1, 1, 1, 1, 1, 1, 1, 1, 1, 1, 1, 1, 1,\n",
       "       1, 1, 1, 1, 1, 1, 1, 1, 1, 1, 1, 1, 1, 1, 1, 1, 1, 1, 1, 1, 1, 1,\n",
       "       1, 1, 1, 1, 1, 1, 1, 1, 1, 1, 1, 1, 1, 1, 1, 1, 1, 1, 1, 1, 1, 1,\n",
       "       1, 1, 1, 1, 1, 1, 1, 1, 1, 1, 1, 1, 1, 1, 1, 1, 1, 1, 1, 1, 1, 1,\n",
       "       1, 1, 1, 1, 1, 1, 1, 1, 2, 1, 2, 1, 1, 1, 1, 1, 1, 1, 1, 1, 1, 1,\n",
       "       1, 1, 1, 1, 2, 1, 1, 1, 1, 1, 1, 1], dtype=int64)"
      ]
     },
     "execution_count": 6,
     "metadata": {},
     "output_type": "execute_result"
    }
   ],
   "source": [
    "y"
   ]
  },
  {
   "cell_type": "code",
   "execution_count": 8,
   "id": "25dd7ecc-5f7f-4c25-a249-56ba522a8c5c",
   "metadata": {},
   "outputs": [
    {
     "data": {
      "text/plain": [
       "<Axes: >"
      ]
     },
     "execution_count": 8,
     "metadata": {},
     "output_type": "execute_result"
    },
    {
     "data": {
      "image/png": "[encoded data removed]",
      "text/plain": [
       "<Figure size 640x480 with 2 Axes>"
      ]
     },
     "metadata": {},
     "output_type": "display_data"
    }
   ],
   "source": [
    "new_df = df[[\"CDs\", \"Year\"]].copy()\n",
    "\n",
    "sns.heatmap(new_df.corr())"
   ]
  },
  {
   "cell_type": "code",
   "execution_count": null,
   "id": "5277f1c1-2e6c-46c6-a063-0a509ff1cd4b",
   "metadata": {},
   "outputs": [],
   "source": []
  },
  {
   "cell_type": "code",
   "execution_count": 16,
   "id": "1cc99d4c-aacb-438e-8e3c-723bc9c2b0e2",
   "metadata": {},
   "outputs": [
    {
     "name": "stdout",
     "output_type": "stream",
     "text": [
      "Requirement already satisfied: scikit-learn in c:\\python312\\lib\\site-packages (1.3.2)\n",
      "Requirement already satisfied: numpy<2.0,>=1.17.3 in c:\\python312\\lib\\site-packages (from scikit-learn) (1.26.3)\n",
      "Requirement already satisfied: scipy>=1.5.0 in c:\\python312\\lib\\site-packages (from scikit-learn) (1.11.4)\n",
      "Requirement already satisfied: joblib>=1.1.1 in c:\\python312\\lib\\site-packages (from scikit-learn) (1.3.2)\n",
      "Requirement already satisfied: threadpoolctl>=2.0.0 in c:\\python312\\lib\\site-packages (from scikit-learn) (3.2.0)\n"
     ]
    },
    {
     "name": "stderr",
     "output_type": "stream",
     "text": [
      "\n",
      "[notice] A new release of pip is available: 23.2.1 -> 23.3.2\n",
      "[notice] To update, run: python.exe -m pip install --upgrade pip\n"
     ]
    }
   ],
   "source": [
    "!pip install scikit-learn\n"
   ]
  },
  {
   "cell_type": "code",
   "execution_count": 20,
   "id": "4b0be966-4dc1-486f-b0bb-2ddec025bc05",
   "metadata": {},
   "outputs": [
    {
     "ename": "ModuleNotFoundError",
     "evalue": "No module named 'sklearn'",
     "output_type": "error",
     "traceback": [
      "\u001b[1;31m---------------------------------------------------------------------------\u001b[0m",
      "\u001b[1;31mModuleNotFoundError\u001b[0m                       Traceback (most recent call last)",
      "Cell \u001b[1;32mIn[20], line 1\u001b[0m\n\u001b[1;32m----> 1\u001b[0m \u001b[38;5;28;01mfrom\u001b[39;00m \u001b[38;5;21;01msklearn\u001b[39;00m\u001b[38;5;21;01m.\u001b[39;00m\u001b[38;5;21;01mmodel_selection\u001b[39;00m \u001b[38;5;28;01mimport\u001b[39;00m train_test_split\n\u001b[0;32m      2\u001b[0m \u001b[38;5;28;01mfrom\u001b[39;00m \u001b[38;5;21;01msklearn\u001b[39;00m\u001b[38;5;21;01m.\u001b[39;00m\u001b[38;5;21;01mlinear_model\u001b[39;00m \u001b[38;5;28;01mimport\u001b[39;00m LogisticRegression\n\u001b[0;32m      3\u001b[0m \u001b[38;5;28;01mfrom\u001b[39;00m \u001b[38;5;21;01msklearn\u001b[39;00m\u001b[38;5;21;01m.\u001b[39;00m\u001b[38;5;21;01mmetrics\u001b[39;00m \u001b[38;5;28;01mimport\u001b[39;00m accuracy_score, classification_reportregressor\n",
      "\u001b[1;31mModuleNotFoundError\u001b[0m: No module named 'sklearn'"
     ]
    }
   ],
   "source": [
    "from sklearn.model_selection import train_test_split\n",
    "from sklearn.linear_model import LogisticRegression\n",
    "from sklearn.metrics import accuracy_score, classification_reportregressor\n",
    "regressor.fit(X_train, y_train)"
   ]
  },
  {
   "cell_type": "code",
   "execution_count": 10,
   "id": "eb778e1d-15de-461b-97b2-238c8d418fa6",
   "metadata": {},
   "outputs": [],
   "source": [
    "dataset = np.array([\n",
    "    ['New Adventure Game', 200, 1500],\n",
    "    ['New Interactive Story', 700, 3500],\n",
    "    ['New Mystery Detective', 2000, 6000],\n",
    "    ['New 3D Adventure', 4000, 10000],\n",
    "    ['New Digital Art Creation', 5500, 8000],\n",
    "    ['New Tactical RPG', 6500, 9000],\n",
    "    ['New Sci-Fi Shooter', 9000, 18000],\n",
    "    ['New Life Simulation', 10500, 25000],\n",
    "    ['New Speed Racing', 13000, 26000],\n",
    "    ['New Fantasy RPG', 16000, 30000],\n",
    "    ['New Virtual World Builder', 17500, 32000],\n",
    "    ['New Exploration Adventure', 18500, 35000],\n",
    "    ['New Online Battle Royale', 27000, 60000],\n",
    "    ['New Massive Multiplayer RPG', 32000, 90000]\n",
    "])"
   ]
  },
  {
   "cell_type": "code",
   "execution_count": 11,
   "id": "ee88020d-62c7-42b4-91a6-e5a11741e84f",
   "metadata": {},
   "outputs": [],
   "source": [
    "X = dataset[:, 1:2].astype(int) "
   ]
  },
  {
   "cell_type": "code",
   "execution_count": 12,
   "id": "0464ca9f-18be-4def-b499-d40976a564ce",
   "metadata": {},
   "outputs": [],
   "source": [
    "y = dataset[:, 2].astype(int) \n"
   ]
  },
  {
   "cell_type": "code",
   "execution_count": 13,
   "id": "a8c2ceff-2791-47d0-9c5f-0269174e467e",
   "metadata": {},
   "outputs": [
    {
     "data": {
      "text/plain": [
       "array([ 1500,  3500,  6000, 10000,  8000,  9000, 18000, 25000, 26000,\n",
       "       30000, 32000, 35000, 60000, 90000])"
      ]
     },
     "execution_count": 13,
     "metadata": {},
     "output_type": "execute_result"
    }
   ],
   "source": [
    "X\n",
    "y"
   ]
  },
  {
   "cell_type": "code",
   "execution_count": 19,
   "id": "4ab1d5bb-fd46-4342-8514-fbe4a43827f0",
   "metadata": {},
   "outputs": [
    {
     "ename": "ModuleNotFoundError",
     "evalue": "No module named 'sklearn'",
     "output_type": "error",
     "traceback": [
      "\u001b[1;31m---------------------------------------------------------------------------\u001b[0m",
      "\u001b[1;31mModuleNotFoundError\u001b[0m                       Traceback (most recent call last)",
      "Cell \u001b[1;32mIn[19], line 1\u001b[0m\n\u001b[1;32m----> 1\u001b[0m \u001b[38;5;28;01mfrom\u001b[39;00m \u001b[38;5;21;01msklearn\u001b[39;00m\u001b[38;5;21;01m.\u001b[39;00m\u001b[38;5;21;01mtree\u001b[39;00m \u001b[38;5;28;01mimport\u001b[39;00m DecisionTreeRegressor \n\u001b[0;32m      2\u001b[0m X_train, X_test, y_train, y_test \u001b[38;5;241m=\u001b[39m train_test_split(X, y, test_size\u001b[38;5;241m=\u001b[39m\u001b[38;5;241m0.2\u001b[39m, random_state\u001b[38;5;241m=\u001b[39m\u001b[38;5;241m0\u001b[39m)\n\u001b[0;32m      4\u001b[0m model \u001b[38;5;241m=\u001b[39m DecisionTreeRegressor(random_state\u001b[38;5;241m=\u001b[39m\u001b[38;5;241m0\u001b[39m)\n",
      "\u001b[1;31mModuleNotFoundError\u001b[0m: No module named 'sklearn'"
     ]
    }
   ],
   "source": [
    "from sklearn.tree import DecisionTreeRegressor \n",
    "X_train, X_test, y_train, y_test = train_test_split(X, y, test_size=0.2, random_state=0)\n",
    "\n",
    "model = DecisionTreeRegressor(random_state=0)\n",
    "model.fit(X_train, y_train)\n",
    "y_pred = model.predict(X_test)\n",
    "mse = mean_squared_error(y_test, y_pred)\n",
    "r2 = r2_score(y_test, y_pred)\n",
    "print(\"Mean Squared Error:\", mse)\n",
    "print(\"R-squared:\", r2)\n",
    "new_data = np.array([\n",
    "    [1200],  \n",
    "    [8000],  \n",
    "])\n",
    "\n",
    "new_predictions = model.predict(new_data)\n",
    "print(\"Predictions on new data:\")\n",
    "print(new_predictions)\n"
   ]
  },
  {
   "cell_type": "code",
   "execution_count": null,
   "id": "ee198363-2631-4dd6-9fe1-9f62bd6a5264",
   "metadata": {},
   "outputs": [],
   "source": [
    "\n",
    "dataset = np.array([\n",
    "    ['Adventure Game', 100, 1000],\n",
    "    ['Interactive Story', 500, 3000],\n",
    "    ['Mystery Detective', 1500, 5000],\n",
    "    ['3D Adventure', 3500, 8000],\n",
    "    ['Digital Art Creation', 5000, 6500],\n",
    "    ['Tactical RPG', 6000, 7000],\n",
    "    ['Sci-Fi Shooter', 8000, 15000],\n",
    "    ['Life Simulation', 9500, 20000],\n",
    "    ['Speed Racing', 12000, 21000],\n",
    "    ['Fantasy RPG', 14000, 25000],\n",
    "    ['Virtual World Builder', 15500, 27000],\n",
    "    ['Exploration Adventure', 16500, 30000],\n",
    "    ['Online Battle Royale', 25000, 52000],\n",
    "    ['Massive Multiplayer RPG', 30000, 80000]\n",
    "])\n",
    "\n",
    "X = dataset[:, 1].reshape(-1, 1)\n",
    "\n",
    "print(\"Accuracy:\", accuracy)\n",
    "print(\"Classification Report:\\n\", classification_report_result)\n"
   ]
  },
  {
   "cell_type": "code",
   "execution_count": null,
   "id": "940198c0-85b6-434c-86ba-bc06d6dd697c",
   "metadata": {},
   "outputs": [],
   "source": [
    "median_target = np.median(dataset[:, 2])\n",
    "y = (dataset[:, 2] > median_target).astype(int)"
   ]
  },
  {
   "cell_type": "code",
   "execution_count": null,
   "id": "7fc20997-a6d7-44b0-a7c7-b311d59f24ed",
   "metadata": {},
   "outputs": [],
   "source": [
    "X_train, X_test, y_train, y_test = train_test_split(X, y, test_size=0.2, random_state=0)\n"
   ]
  },
  {
   "cell_type": "code",
   "execution_count": null,
   "id": "412f7ae6-45dd-4b80-8766-31f72015bc5b",
   "metadata": {},
   "outputs": [],
   "source": [
    "model = LogisticRegression(random_state=0)\n",
    "model.fit(X_train, y_train)"
   ]
  },
  {
   "cell_type": "code",
   "execution_count": null,
   "id": "6ffaf9ee-527b-44e5-9f7a-2374a8ffffce",
   "metadata": {},
   "outputs": [],
   "source": [
    "y_pred = model.predict(X_test)\n"
   ]
  },
  {
   "cell_type": "code",
   "execution_count": null,
   "id": "a5cb8f6f-b500-4d0e-95dd-dd4d71198be4",
   "metadata": {},
   "outputs": [],
   "source": [
    "accuracy = accuracy_score(y_test, y_pred)\n",
    "classification_report_result = classification_report(y_test, y_pred)"
   ]
  },
  {
   "cell_type": "code",
   "execution_count": null,
   "id": "d7af05c3-a4bf-482e-b4ca-dd4bbb9a89d9",
   "metadata": {},
   "outputs": [],
   "source": [
    "print(\"Accuracy:\", accuracy)\n",
    "print(\"Classification Report:\\n\", classification_report_result)\n"
   ]
  },
  {
   "cell_type": "code",
   "execution_count": null,
   "id": "3040fd3d-8185-477c-8641-ea39d7261cf0",
   "metadata": {},
   "outputs": [],
   "source": [
    "new_data = np.array([\n",
    "    [1200], \n",
    "    [8000],  \n",
    "])\n",
    "\n",
    "new_predictions = model.predict(new_data)\n",
    "print(\"Predictions on new data:\")\n",
    "print(new_predictions)"
   ]
  },
  {
   "cell_type": "code",
   "execution_count": null,
   "id": "6a7e046d-6231-4f63-adea-9724abb68850",
   "metadata": {},
   "outputs": [],
   "source": [
    "import numpy as np\n",
    "from sklearn.model_selection import train_test_split\n",
    "from sklearn.tree import DecisionTreeClassifier\n",
    "from sklearn.metrics import accuracy_score, classification_report\n",
    "\n",
    "# Assuming a binary label based on the second column (index 1)\n",
    "# If the value is greater than the median, label as 1, else label as 0\n",
    "dataset = np.array([\n",
    "    ['Adventure Game', 100, 1000],\n",
    "    ['Interactive Story', 500, 3000],\n",
    "    ['Mystery Detective', 1500, 5000],\n",
    "    ['3D Adventure', 3500, 8000],\n",
    "    ['Digital Art Creation', 5000, 6500],\n",
    "    ['Tactical RPG', 6000, 7000],\n",
    "    ['Sci-Fi Shooter', 8000, 15000],\n",
    "    ['Life Simulation', 9500, 20000],\n",
    "    ['Speed Racing', 12000, 21000],\n",
    "    ['Fantasy RPG', 14000, 25000],\n",
    "    ['Virtual World Builder', 15500, 27000],\n",
    "    ['Exploration Adventure', 16500, 30000],\n",
    "    ['Online Battle Royale', 25000, 52000],\n",
    "    ['Massive Multiplayer RPG', 30000, 80000]\n",
    "])\n",
    "\n",
    "# Use the second column (index 1) as the independent variable (X)\n",
    "X = dataset[:, 1].reshape(-1, 1)\n",
    "\n",
    "# Calculate the median of the target variable (assuming it is binary)\n",
    "median_target = np.median(dataset[:, 2])\n",
    "# Assign labels based on the median\n",
    "y = (dataset[:, 2] > median_target).astype(int)\n",
    "\n",
    "# Split the dataset into training and testing sets\n",
    "X_train, X_test, y_train, y_test = train_test_split(X, y, test_size=0.2, random_state=0)\n",
    "\n",
    "# Create and fit the Decision Tree Classification model\n",
    "model = DecisionTreeClassifier(random_state=0)\n",
    "model.fit(X_train, y_train)\n",
    "\n",
    "# Make predictions on the test set\n",
    "y_pred = model.predict(X_test)\n",
    "\n",
    "# Evaluate the model performance\n",
    "accuracy = accuracy_score(y_test, y_pred)\n",
    "classification_report_result = classification_report(y_test, y_pred)\n",
    "\n",
    "print(\"Accuracy:\", accuracy)\n",
    "print(\"Classification Report:\\n\", classification_report_result)\n",
    "\n",
    "# Test the model on new data\n",
    "new_data = np.array([\n",
    "    [1200],  # New value for the independent variable\n",
    "    [8000],  # Another new value for the independent variable\n",
    "])\n",
    "\n",
    "new_predictions = model.predict(new_data)\n",
    "print(\"Predictions on new data:\")\n",
    "print(new_predictions)\n"
   ]
  }
 ],
 "metadata": {
  "kernelspec": {
   "display_name": "Python 3 (ipykernel)",
   "language": "python",
   "name": "python3"
  },
  "language_info": {
   "codemirror_mode": {
    "name": "ipython",
    "version": 3
   },
   "file_extension": ".py",
   "mimetype": "text/x-python",
   "name": "python",
   "nbconvert_exporter": "python",
   "pygments_lexer": "ipython3",
   "version": "3.9.2"
  }
 },
 "nbformat": 4,
 "nbformat_minor": 5
}
